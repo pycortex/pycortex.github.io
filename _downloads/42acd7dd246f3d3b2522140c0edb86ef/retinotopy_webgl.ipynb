{
  "cells": [
    {
      "cell_type": "code",
      "execution_count": null,
      "metadata": {
        "collapsed": false
      },
      "outputs": [],
      "source": [
        "%matplotlib inline"
      ]
    },
    {
      "cell_type": "markdown",
      "metadata": {},
      "source": [
        "\n# Plot Example Retinotopy in Web Viewer\n\n\nThis demo shows how to plot example retinotopy data onto a subject's brain\nin a web viewer. In order for this demo to work, you need to download this\ndataset_, but that can also be done automatically through the `urllib`\ncommand that is included.\n\n\nS1 is the example subject that comes with pycortex, but if you want to plot\ndata onto a different subject, you will need to have them in your filestore.\n\nThis demo will not actually open the web viewer for you, but if you run it\nyourself you will get a viewer showing something like the following.\n\n![](../../webgl/angle_left.png)\n\n"
      ]
    },
    {
      "cell_type": "code",
      "execution_count": null,
      "metadata": {
        "collapsed": false
      },
      "outputs": [],
      "source": [
        "import cortex\ntry: #  python 2\n    from urllib import urlretrieve\nexcept ImportError:  # python 3\n    from urllib.request import urlretrieve\n\n\n# Download and load in retinotopy data\n_ = urlretrieve(\"http://gallantlab.org/pycortex/S1_retinotopy.hdf\",\n                \"S1_retinotopy.hdf\")\nret_data = cortex.load(\"S1_retinotopy.hdf\")\n\n# Open the webviewer\ncortex.webshow(ret_data)"
      ]
    }
  ],
  "metadata": {
    "kernelspec": {
      "display_name": "Python 3",
      "language": "python",
      "name": "python3"
    },
    "language_info": {
      "codemirror_mode": {
        "name": "ipython",
        "version": 3
      },
      "file_extension": ".py",
      "mimetype": "text/x-python",
      "name": "python",
      "nbconvert_exporter": "python",
      "pygments_lexer": "ipython3",
      "version": "3.7.1"
    }
  },
  "nbformat": 4,
  "nbformat_minor": 0
}