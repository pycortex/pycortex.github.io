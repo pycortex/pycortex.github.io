{
  "cells": [
    {
      "cell_type": "code",
      "execution_count": null,
      "metadata": {
        "collapsed": false
      },
      "outputs": [],
      "source": [
        "%matplotlib inline"
      ]
    },
    {
      "cell_type": "markdown",
      "metadata": {},
      "source": [
        "\n# Plot RGB Volume Data\n\n\nThis plots an example RGB dataset onto an example subject, S1, onto a flatmap\nusing quickflat. In order for this to run, you have to a have a flatmap for\nthis subject in the pycortex filestore.\n\nThe cortex.VolumeRGB object is instantiated with three cortex.Volume objects,\none for each of the three color channels. Ideally, the data in the Volume\nobjects will be scaled to be between 0-255 and be np.uint8 type.\n\nHere, two datasets are generated to look like gradients across the brain and\na third dataset makes a series of stripes across the brain.\n"
      ]
    },
    {
      "cell_type": "code",
      "execution_count": null,
      "metadata": {
        "collapsed": false
      },
      "outputs": [],
      "source": [
        "import cortex\nimport numpy as np\nimport matplotlib.pyplot as plt\n\nsubject = \"S1\"\nxfm = \"fullhead\"\n\n# Creating three test datasets that are the same shape as this transform with\n# one entry for this voxel\n# The first two are gradients going in different directions across the brain\n# and the third is stripes across certain slices of the brain\ntest1 = np.arange(31. * 100 * 100).reshape((31, 100, 100), order='C')\ntest2 = np.arange(31. * 100 * 100).reshape((31, 100, 100), order='F')\ntest3 = np.zeros((31, 100, 100))\ntest3[::3, :, :] = 1\n\n# Scaling the three datasets to be between 0-255\ntest1_scaled = test1 / np.max(test1) * 255\ntest2_scaled = test2 / np.max(test2) * 255\ntest3_scaled = test3 / np.max(test3) * 255\n\n# Creating three cortex.Volume objects with the test data as np.uint8\nred = cortex.Volume(test1_scaled.astype(np.uint8), 'S1', 'fullhead')\ngreen = cortex.Volume(test2_scaled.astype(np.uint8), 'S1', 'fullhead')\nblue = cortex.Volume(test3_scaled.astype(np.uint8), 'S1', 'fullhead')\n\n# This creates an RGB Volume from the three different color channels for\n# this subject\n# Note that you do not need to specify the transform when creating this as it\n# is already specified in the red, green, and blue channels\nvol_data = cortex.VolumeRGB(red, green, blue, subject)\ncortex.quickshow(vol_data, with_colorbar=False)\nplt.show()"
      ]
    }
  ],
  "metadata": {
    "kernelspec": {
      "display_name": "Python 3",
      "language": "python",
      "name": "python3"
    },
    "language_info": {
      "codemirror_mode": {
        "name": "ipython",
        "version": 3
      },
      "file_extension": ".py",
      "mimetype": "text/x-python",
      "name": "python",
      "nbconvert_exporter": "python",
      "pygments_lexer": "ipython3",
      "version": "3.7.1"
    }
  },
  "nbformat": 4,
  "nbformat_minor": 0
}