{
  "cells": [
    {
      "cell_type": "code",
      "execution_count": null,
      "metadata": {
        "collapsed": false
      },
      "outputs": [],
      "source": [
        "%matplotlib inline"
      ]
    },
    {
      "cell_type": "markdown",
      "metadata": {},
      "source": [
        "\n# Plot ROIs on the flatmap\n\n\nROIs are defined as sub-layers of the `roi` layer in\n<filestore>/<subject>/overlays.svg\n\nBy default, ROIs and ROI labels are displayed when a flatmap is plotted using\n`quickflat.make_figure`.\n\n`with_labels=False` turns off the ROI labels.\n`with_rois=False` turns off the ROI display.\n"
      ]
    },
    {
      "cell_type": "code",
      "execution_count": null,
      "metadata": {
        "collapsed": false
      },
      "outputs": [],
      "source": [
        "import cortex\nimport numpy as np\nnp.random.seed(1234)\n\n# Create a random pycortex Volume\nvolume = cortex.Volume.random(subject='S1', xfmname='fullhead')\n\n# Plot a flatmap with the data projected onto the surface\n# By default the ROIs and their labels will be displayed\n_ = cortex.quickflat.make_figure(volume)\n\n# Turn off the ROI labels\n_ = cortex.quickflat.make_figure(volume,\n                                 with_labels=False)\n# Turn off the ROIs\n_ = cortex.quickflat.make_figure(volume,\n                                 with_rois=False)"
      ]
    }
  ],
  "metadata": {
    "kernelspec": {
      "display_name": "Python 3",
      "language": "python",
      "name": "python3"
    },
    "language_info": {
      "codemirror_mode": {
        "name": "ipython",
        "version": 3
      },
      "file_extension": ".py",
      "mimetype": "text/x-python",
      "name": "python",
      "nbconvert_exporter": "python",
      "pygments_lexer": "ipython3",
      "version": "3.7.1"
    }
  },
  "nbformat": 4,
  "nbformat_minor": 0
}